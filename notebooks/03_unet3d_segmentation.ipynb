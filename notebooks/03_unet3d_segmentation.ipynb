{
 "cells": [
  {
   "cell_type": "code",
   "execution_count": null,
   "id": "735c6e95",
   "metadata": {
    "vscode": {
     "languageId": "plaintext"
    }
   },
   "outputs": [],
   "source": [
    "\n",
    "import numpy as np\n",
    "from pathlib import Path\n",
    "import tensorflow as tf\n",
    "from tensorflow.keras.models import Model\n",
    "from tensorflow.keras.layers import Input, Conv3D, MaxPooling3D, UpSampling3D, concatenate\n",
    "from sklearn.model_selection import train_test_split\n",
    "\n",
    "# Set paths\n",
    "PREPROCESSED_DIR = Path(\"./experiments/preprocessed\")\n",
    "MODEL_DIR = Path(\"./experiments/models/unet3d\")\n",
    "MODEL_DIR.mkdir(parents=True, exist_ok=True)\n",
    "\n",
    "# Load preprocessed MRI data\n",
    "mri_data = np.load(PREPROCESSED_DIR / \"mri_data.npy\")\n",
    "mri_masks = np.load(PREPROCESSED_DIR / \"mri_masks.npy\")\n",
    "\n",
    "print(\"MRI data shape:\", mri_data.shape)\n",
    "print(\"MRI masks shape:\", mri_masks.shape)\n",
    "\n",
    "# Split train/test\n",
    "X_train, X_test, y_train, y_test = train_test_split(\n",
    "    mri_data, mri_masks, test_size=0.2, random_state=42\n",
    ")\n",
    "\n",
    "print(\"Train shape:\", X_train.shape, y_train.shape)\n",
    "print(\"Test shape:\", X_test.shape, y_test.shape)\n"
   ]
  },
  {
   "cell_type": "code",
   "execution_count": null,
   "id": "75766bf4",
   "metadata": {
    "vscode": {
     "languageId": "plaintext"
    }
   },
   "outputs": [],
   "source": [
    "\n",
    "def unet3d(input_shape=(64,64,64,1), num_classes=1):\n",
    "    inputs = Input(shape=input_shape)\n",
    "    \n",
    "    # Encoder\n",
    "    c1 = Conv3D(32, (3,3,3), activation='relu', padding='same')(inputs)\n",
    "    c1 = Conv3D(32, (3,3,3), activation='relu', padding='same')(c1)\n",
    "    p1 = MaxPooling3D((2,2,2))(c1)\n",
    "    \n",
    "    c2 = Conv3D(64, (3,3,3), activation='relu', padding='same')(p1)\n",
    "    c2 = Conv3D(64, (3,3,3), activation='relu', padding='same')(c2)\n",
    "    p2 = MaxPooling3D((2,2,2))(c2)\n",
    "    \n",
    "    c3 = Conv3D(128, (3,3,3), activation='relu', padding='same')(p2)\n",
    "    c3 = Conv3D(128, (3,3,3), activation='relu', padding='same')(c3)\n",
    "    \n",
    "    # Decoder\n",
    "    u2 = UpSampling3D((2,2,2))(c3)\n",
    "    u2 = concatenate([u2, c2])\n",
    "    c4 = Conv3D(64, (3,3,3), activation='relu', padding='same')(u2)\n",
    "    c4 = Conv3D(64, (3,3,3), activation='relu', padding='same')(c4)\n",
    "    \n",
    "    u1 = UpSampling3D((2,2,2))(c4)\n",
    "    u1 = concatenate([u1, c1])\n",
    "    c5 = Conv3D(32, (3,3,3), activation='relu', padding='same')(u1)\n",
    "    c5 = Conv3D(32, (3,3,3), activation='relu', padding='same')(c5)\n",
    "    \n",
    "    outputs = Conv3D(num_classes, (1,1,1), activation='sigmoid')(c5)\n",
    "    \n",
    "    model = Model(inputs, outputs)\n",
    "    return model\n",
    "\n",
    "input_shape = X_train.shape[1:]\n",
    "model = unet3d(input_shape=input_shape)\n",
    "model.compile(optimizer='adam', loss='binary_crossentropy', metrics=['accuracy'])\n",
    "model.summary()\n"
   ]
  },
  {
   "cell_type": "code",
   "execution_count": null,
   "id": "b1a8bb12",
   "metadata": {
    "vscode": {
     "languageId": "plaintext"
    }
   },
   "outputs": [],
   "source": [
    "\n",
    "batch_size = 1\n",
    "epochs = 5\n",
    "\n",
    "history = model.fit(\n",
    "    X_train, y_train,\n",
    "    validation_split=0.2,\n",
    "    batch_size=batch_size,\n",
    "    epochs=epochs,\n",
    "    verbose=1\n",
    ")\n",
    "\n",
    "# Save trained model\n",
    "model.save(MODEL_DIR / \"unet3d_model\")\n",
    "print(f\"3D U-Net model saved to {MODEL_DIR / 'unet3d_model'}\")\n"
   ]
  },
  {
   "cell_type": "code",
   "execution_count": null,
   "id": "6a1d100c",
   "metadata": {
    "vscode": {
     "languageId": "plaintext"
    }
   },
   "outputs": [],
   "source": [
    "\n",
    "import matplotlib.pyplot as plt\n",
    "\n",
    "# Evaluate on test set\n",
    "test_loss, test_acc = model.evaluate(X_test, y_test, verbose=0)\n",
    "print(f\"Test Loss: {test_loss:.4f}, Test Accuracy: {test_acc:.4f}\")\n",
    "\n",
    "# Visualize predictions on a test sample\n",
    "sample_idx = 0\n",
    "sample_vol = X_test[sample_idx:sample_idx+1]\n",
    "sample_mask = y_test[sample_idx]\n",
    "\n",
    "pred_mask = model.predict(sample_vol)[0,...,0]\n",
    "\n",
    "slice_idx = 32\n",
    "plt.figure(figsize=(12,4))\n",
    "plt.subplot(1,3,1)\n",
    "plt.imshow(sample_vol[0,:,:,slice_idx,0], cmap='gray')\n",
    "plt.title(\"MRI Slice\")\n",
    "plt.axis('off')\n",
    "\n",
    "plt.subplot(1,3,2)\n",
    "plt.imshow(sample_mask[:,:,slice_idx,0], cmap='gray')\n",
    "plt.title(\"Ground Truth Mask\")\n",
    "plt.axis('off')\n",
    "\n",
    "plt.subplot(1,3,3)\n",
    "plt.imshow(pred_mask[:,:,slice_idx], cmap='gray')\n",
    "plt.title(\"Predicted Mask\")\n",
    "plt.axis('off')\n",
    "\n",
    "plt.show()\n"
   ]
  }
 ],
 "metadata": {
  "language_info": {
   "name": "python"
  }
 },
 "nbformat": 4,
 "nbformat_minor": 5
}
