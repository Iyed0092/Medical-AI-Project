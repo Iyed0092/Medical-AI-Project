{
 "cells": [
  {
   "cell_type": "code",
   "execution_count": null,
   "id": "4233cd29",
   "metadata": {
    "vscode": {
     "languageId": "plaintext"
    }
   },
   "outputs": [],
   "source": [
    "\n",
    "import numpy as np\n",
    "from pathlib import Path\n",
    "import pandas as pd\n",
    "\n",
    "# Survival analysis libraries\n",
    "from sksurv.linear_model import CoxPHSurvivalAnalysis\n",
    "from sksurv.ensemble import RandomSurvivalForest\n",
    "from sksurv.util import Surv\n",
    "from sklearn.model_selection import train_test_split\n",
    "from sksurv.metrics import concordance_index_censored\n",
    "import xgboost as xgb\n",
    "\n",
    "# Set paths\n",
    "PREPROCESSED_DIR = Path(\"./experiments/preprocessed\")\n",
    "MODEL_DIR = Path(\"./experiments/models/prognostic\")\n",
    "MODEL_DIR.mkdir(parents=True, exist_ok=True)\n",
    "\n",
    "# Load tabular data\n",
    "X_tab = np.load(PREPROCESSED_DIR / \"X_tab.npy\")\n",
    "y_tab = np.load(PREPROCESSED_DIR / \"y_tab.npy\")\n",
    "\n",
    "# Create synthetic survival times and events\n",
    "np.random.seed(42)\n",
    "surv_times = np.random.exponential(scale=50, size=y_tab.shape[0])\n",
    "events = np.random.binomial(1, 0.7, size=y_tab.shape[0])\n",
    "\n",
    "# Structured array for sksurv\n",
    "y_surv = np.array([(bool(e), t) for e, t in zip(events, surv_times)],\n",
    "                  dtype=[('event', bool), ('time', float)])\n",
    "\n",
    "# Split train/test\n",
    "X_train, X_test, y_train, y_test = train_test_split(\n",
    "    X_tab, y_surv, test_size=0.2, random_state=42\n",
    ")\n",
    "\n",
    "print(\"Train features shape:\", X_train.shape)\n",
    "print(\"Test features shape:\", X_test.shape)\n",
    "print(\"Example survival data:\", y_train[:3])\n"
   ]
  },
  {
   "cell_type": "code",
   "execution_count": null,
   "id": "919fb9d0",
   "metadata": {
    "vscode": {
     "languageId": "plaintext"
    }
   },
   "outputs": [],
   "source": [
    "\n",
    "# Initialize Cox model\n",
    "cox_model = CoxPHSurvivalAnalysis()\n",
    "cox_model.fit(X_train, y_train)\n",
    "\n",
    "# Predict risk scores on test set\n",
    "cox_risk = cox_model.predict(X_test)\n",
    "\n",
    "# Evaluate with concordance index\n",
    "c_index = concordance_index_censored(y_test['event'], y_test['time'], cox_risk)[0]\n",
    "print(f\"Cox PH Model C-index: {c_index:.4f}\")\n"
   ]
  },
  {
   "cell_type": "code",
   "execution_count": null,
   "id": "16c97837",
   "metadata": {
    "vscode": {
     "languageId": "plaintext"
    }
   },
   "outputs": [],
   "source": [
    "\n",
    "# Initialize RSF model\n",
    "rsf_model = RandomSurvivalForest(n_estimators=50, min_samples_split=5,\n",
    "                                 min_samples_leaf=3, random_state=42)\n",
    "rsf_model.fit(X_train, y_train)\n",
    "\n",
    "# Predict risk scores on test set\n",
    "rsf_risk = rsf_model.predict(X_test)\n",
    "\n",
    "# Evaluate with concordance index\n",
    "c_index_rsf = concordance_index_censored(y_test['event'], y_test['time'], rsf_risk)[0]\n",
    "print(f\"RSF Model C-index: {c_index_rsf:.4f}\")\n"
   ]
  },
  {
   "cell_type": "code",
   "execution_count": null,
   "id": "90479ba0",
   "metadata": {
    "vscode": {
     "languageId": "plaintext"
    }
   },
   "outputs": [],
   "source": [
    "\n",
    "# Prepare data in DMatrix format\n",
    "dtrain = xgb.DMatrix(X_train, label=surv_times[:len(X_train)])\n",
    "dtest = xgb.DMatrix(X_test, label=surv_times[len(X_train):])\n",
    "\n",
    "# Define XGBoost parameters for Cox survival\n",
    "params = {\n",
    "    \"objective\": \"survival:cox\",\n",
    "    \"eval_metric\": \"cox-nloglik\",\n",
    "    \"eta\": 0.1,\n",
    "    \"max_depth\": 3,\n",
    "    \"seed\": 42\n",
    "}\n",
    "\n",
    "# Train model\n",
    "xgb_model = xgb.train(params, dtrain, num_boost_round=50)\n",
    "\n",
    "# Predict risk scores\n",
    "xgb_risk = xgb_model.predict(dtest)\n",
    "\n",
    "# Evaluate with concordance index\n",
    "c_index_xgb = concordance_index_censored(y_test['event'], y_test['time'], xgb_risk)[0]\n",
    "print(f\"XGBoost Survival Model C-index: {c_index_xgb:.4f}\")\n"
   ]
  }
 ],
 "metadata": {
  "language_info": {
   "name": "python"
  }
 },
 "nbformat": 4,
 "nbformat_minor": 5
}
