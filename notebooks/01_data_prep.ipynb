{
 "cells": [
  {
   "cell_type": "code",
   "execution_count": null,
   "id": "c30d33ae",
   "metadata": {
    "vscode": {
     "languageId": "plaintext"
    }
   },
   "outputs": [],
   "source": [
    "\n",
    "import numpy as np\n",
    "import pandas as pd\n",
    "import os\n",
    "from pathlib import Path\n",
    "import nibabel as nib\n",
    "from skimage.transform import resize\n",
    "import matplotlib.pyplot as plt\n",
    "\n",
    "# Set directories\n",
    "BASE_DIR = Path(\"./experiments\")\n",
    "IMG_DIR = BASE_DIR / \"images\"\n",
    "MRI_DIR = BASE_DIR / \"mri_volumes\"\n",
    "TABULAR_DIR = BASE_DIR / \"tabular\"\n",
    "\n",
    "for d in [IMG_DIR, MRI_DIR, TABULAR_DIR]:\n",
    "    d.mkdir(parents=True, exist_ok=True)\n",
    "\n",
    "# Synthetic X-ray images: 128x128 grayscale\n",
    "n_xray = 10\n",
    "xray_images = np.random.randint(0, 256, size=(n_xray, 128, 128), dtype=np.uint8)\n",
    "xray_labels = np.random.randint(0, 2, size=(n_xray,))  # binary classification\n",
    "\n",
    "# Save X-rays as numpy arrays\n",
    "for i, img in enumerate(xray_images):\n",
    "    np.save(IMG_DIR / f\"xray_{i}.npy\", img)\n",
    "\n",
    "# Synthetic MRI volumes: 64x64x64\n",
    "n_mri = 5\n",
    "mri_volumes = np.random.rand(n_mri, 64, 64, 64).astype(np.float32)\n",
    "mri_masks = np.random.randint(0, 2, size=(n_mri, 64, 64, 64)).astype(np.uint8)\n",
    "\n",
    "for i, vol in enumerate(mri_volumes):\n",
    "    np.save(MRI_DIR / f\"mri_{i}.npy\", vol)\n",
    "    np.save(MRI_DIR / f\"mask_{i}.npy\", mri_masks[i])\n",
    "\n",
    "# Synthetic tabular data\n",
    "n_patients = 20\n",
    "tabular_df = pd.DataFrame({\n",
    "    \"age\": np.random.randint(30, 80, size=n_patients),\n",
    "    \"sex\": np.random.choice([\"male\",\"female\"], size=n_patients),\n",
    "    \"bp\": np.random.normal(120,15,size=n_patients),\n",
    "    \"chol\": np.random.normal(200,30,size=n_patients),\n",
    "    \"label\": np.random.randint(0,2,size=n_patients)\n",
    "})\n",
    "tabular_df.to_csv(TABULAR_DIR / \"clinical_data.csv\", index=False)\n",
    "\n",
    "print(\"Synthetic X-rays, MRI volumes, and tabular data generated and saved.\")\n"
   ]
  },
  {
   "cell_type": "code",
   "execution_count": null,
   "id": "f3db11a9",
   "metadata": {
    "vscode": {
     "languageId": "plaintext"
    }
   },
   "outputs": [],
   "source": [
    "\n",
    "from tensorflow.keras.utils import to_categorical\n",
    "\n",
    "# Load X-rays\n",
    "xray_files = sorted(IMG_DIR.glob(\"xray_*.npy\"))\n",
    "xray_data = np.array([np.load(f) for f in xray_files])\n",
    "xray_data = xray_data.astype(\"float32\") / 255.0  # normalize to 0-1\n",
    "xray_data = xray_data[..., np.newaxis]  # add channel dimension\n",
    "\n",
    "# Load labels\n",
    "xray_labels = np.array([np.load(f.with_name(f.stem.split('_')[0] + '_labels.npy')) \n",
    "                        if (f.with_name(f.stem.split('_')[0] + '_labels.npy')).exists() \n",
    "                        else np.random.randint(0,2) \n",
    "                        for f in xray_files])\n",
    "xray_labels = to_categorical(xray_labels, num_classes=2)\n",
    "\n",
    "print(\"X-ray data shape:\", xray_data.shape)\n",
    "print(\"X-ray labels shape:\", xray_labels.shape)\n",
    "\n",
    "# Quick visualization\n",
    "import matplotlib.pyplot as plt\n",
    "plt.figure(figsize=(8,4))\n",
    "for i in range(4):\n",
    "    plt.subplot(1,4,i+1)\n",
    "    plt.imshow(xray_data[i,...,0], cmap=\"gray\")\n",
    "    plt.title(f\"Label: {np.argmax(xray_labels[i])}\")\n",
    "    plt.axis(\"off\")\n",
    "plt.show()\n"
   ]
  },
  {
   "cell_type": "code",
   "execution_count": null,
   "id": "e5ea7627",
   "metadata": {
    "vscode": {
     "languageId": "plaintext"
    }
   },
   "outputs": [],
   "source": [
    "\n",
    "# Load MRI volumes and masks\n",
    "mri_files = sorted(MRI_DIR.glob(\"mri_*.npy\"))\n",
    "mask_files = sorted(MRI_DIR.glob(\"mask_*.npy\"))\n",
    "\n",
    "mri_data = np.array([np.load(f) for f in mri_files])\n",
    "mri_masks = np.array([np.load(f) for f in mask_files])\n",
    "\n",
    "# Normalize MRI volumes to 0-1\n",
    "mri_data = (mri_data - mri_data.min()) / (mri_data.max() - mri_data.min())\n",
    "mri_data = mri_data[..., np.newaxis]  # add channel dimension\n",
    "\n",
    "# One-hot encode masks for multi-class segmentation (here binary)\n",
    "mri_masks = mri_masks[..., np.newaxis]\n",
    "\n",
    "print(\"MRI volumes shape:\", mri_data.shape)\n",
    "print(\"MRI masks shape:\", mri_masks.shape)\n",
    "\n",
    "# Quick slice visualization\n",
    "import matplotlib.pyplot as plt\n",
    "slice_idx = 32\n",
    "plt.figure(figsize=(10,4))\n",
    "for i in range(min(3, mri_data.shape[0])):\n",
    "    plt.subplot(2,3,i+1)\n",
    "    plt.imshow(mri_data[i,:,:,slice_idx,0], cmap=\"gray\")\n",
    "    plt.title(f\"Volume {i}\")\n",
    "    plt.axis(\"off\")\n",
    "    \n",
    "    plt.subplot(2,3,i+4)\n",
    "    plt.imshow(mri_masks[i,:,:,slice_idx,0], cmap=\"gray\")\n",
    "    plt.title(f\"Mask {i}\")\n",
    "    plt.axis(\"off\")\n",
    "plt.show()\n"
   ]
  },
  {
   "cell_type": "code",
   "execution_count": null,
   "id": "07202532",
   "metadata": {
    "vscode": {
     "languageId": "plaintext"
    }
   },
   "outputs": [],
   "source": [
    "\n",
    "# Load tabular data\n",
    "clinical_csv = TABULAR_DIR / \"clinical_data.csv\"\n",
    "clinical_df = pd.read_csv(clinical_csv)\n",
    "\n",
    "# Encode categorical features\n",
    "clinical_df['sex'] = clinical_df['sex'].map({'male': 0, 'female': 1})\n",
    "\n",
    "# Separate features and labels\n",
    "X_tab = clinical_df.drop(columns=['label']).values.astype('float32')\n",
    "y_tab = clinical_df['label'].values.astype('int')\n",
    "\n",
    "print(\"Tabular features shape:\", X_tab.shape)\n",
    "print(\"Tabular labels shape:\", y_tab.shape)\n",
    "print(clinical_df.head())\n",
    "\n",
    "# Save preprocessed tabular data for later use\n",
    "np.save(TABULAR_DIR / \"X_tab.npy\", X_tab)\n",
    "np.save(TABULAR_DIR / \"y_tab.npy\", y_tab)\n",
    "print(\"Preprocessed tabular data saved.\")\n"
   ]
  },
  {
   "cell_type": "code",
   "execution_count": null,
   "id": "19f432e3",
   "metadata": {
    "vscode": {
     "languageId": "plaintext"
    }
   },
   "outputs": [],
   "source": [
    "\n",
    "PREPROCESSED_DIR = BASE_DIR / \"preprocessed\"\n",
    "for d in [PREPROCESSED_DIR]:\n",
    "    d.mkdir(parents=True, exist_ok=True)\n",
    "\n",
    "# Save X-ray data\n",
    "np.save(PREPROCESSED_DIR / \"xray_data.npy\", xray_data)\n",
    "np.save(PREPROCESSED_DIR / \"xray_labels.npy\", xray_labels)\n",
    "\n",
    "# Save MRI volumes and masks\n",
    "np.save(PREPROCESSED_DIR / \"mri_data.npy\", mri_data)\n",
    "np.save(PREPROCESSED_DIR / \"mri_masks.npy\", mri_masks)\n",
    "\n",
    "# Save tabular data\n",
    "np.save(PREPROCESSED_DIR / \"X_tab.npy\", X_tab)\n",
    "np.save(PREPROCESSED_DIR / \"y_tab.npy\", y_tab)\n",
    "\n",
    "print(f\"All preprocessed datasets saved to {PREPROCESSED_DIR.resolve()}\")\n",
    "\n",
    "print(\"Summary of preprocessed data:\")\n",
    "print(f\"X-ray data: {xray_data.shape}, labels: {xray_labels.shape}\")\n",
    "print(f\"MRI volumes: {mri_data.shape}, masks: {mri_masks.shape}\")\n",
    "print(f\"Tabular features: {X_tab.shape}, labels: {y_tab.shape}\")\n"
   ]
  }
 ],
 "metadata": {
  "language_info": {
   "name": "python"
  }
 },
 "nbformat": 4,
 "nbformat_minor": 5
}
