{
 "cells": [
  {
   "cell_type": "code",
   "execution_count": null,
   "id": "4b7c7df2",
   "metadata": {
    "vscode": {
     "languageId": "plaintext"
    }
   },
   "outputs": [],
   "source": [
    "\n",
    "import numpy as np\n",
    "from pathlib import Path\n",
    "import tensorflow as tf\n",
    "import matplotlib.pyplot as plt\n",
    "\n",
    "# Set paths\n",
    "PREPROCESSED_DIR = Path(\"./experiments/preprocessed\")\n",
    "MODEL_DIR = Path(\"./experiments/models/cnn/xray_cnn_model\")\n",
    "\n",
    "# Load preprocessed X-ray data\n",
    "xray_data = np.load(PREPROCESSED_DIR / \"xray_data.npy\")\n",
    "xray_labels = np.load(PREPROCESSED_DIR / \"xray_labels.npy\")\n",
    "\n",
    "# Load trained CNN model\n",
    "model = tf.keras.models.load_model(MODEL_DIR)\n",
    "\n",
    "print(\"Model loaded successfully\")\n",
    "print(\"X-ray data shape:\", xray_data.shape)\n"
   ]
  },
  {
   "cell_type": "code",
   "execution_count": null,
   "id": "6d2df661",
   "metadata": {
    "vscode": {
     "languageId": "plaintext"
    }
   },
   "outputs": [],
   "source": [
    "\n",
    "import tensorflow.keras.backend as K\n",
    "\n",
    "def get_gradcam_heatmap(model, img, class_idx):\n",
    "    grad_model = tf.keras.models.Model(\n",
    "        [model.inputs], [model.get_layer(index=-3).output, model.output]\n",
    "    )\n",
    "    with tf.GradientTape() as tape:\n",
    "        conv_outputs, predictions = grad_model(img[None,...])\n",
    "        loss = predictions[:, class_idx]\n",
    "    grads = tape.gradient(loss, conv_outputs)\n",
    "    pooled_grads = tf.reduce_mean(grads, axis=(0,1,2))\n",
    "    conv_outputs = conv_outputs[0]\n",
    "    heatmap = tf.reduce_sum(tf.multiply(pooled_grads, conv_outputs), axis=-1)\n",
    "    heatmap = tf.maximum(heatmap, 0) / (tf.reduce_max(heatmap) + 1e-8)\n",
    "    return heatmap.numpy()\n",
    "\n",
    "# Visualize Grad-CAM for first 3 test images\n",
    "for i in range(3):\n",
    "    img = xray_data[i]\n",
    "    class_idx = np.argmax(xray_labels[i])\n",
    "    heatmap = get_gradcam_heatmap(model, img, class_idx)\n",
    "    \n",
    "    plt.figure(figsize=(6,3))\n",
    "    plt.subplot(1,2,1)\n",
    "    plt.imshow(img[...,0], cmap='gray')\n",
    "    plt.title(\"Original X-ray\")\n",
    "    plt.axis('off')\n",
    "    \n",
    "    plt.subplot(1,2,2)\n",
    "    plt.imshow(img[...,0], cmap='gray')\n",
    "    plt.imshow(heatmap, cmap='jet', alpha=0.5)\n",
    "    plt.title(\"Grad-CAM Overlay\")\n",
    "    plt.axis('off')\n",
    "    plt.show()\n"
   ]
  },
  {
   "cell_type": "code",
   "execution_count": null,
   "id": "eccec706",
   "metadata": {
    "vscode": {
     "languageId": "plaintext"
    }
   },
   "outputs": [],
   "source": [
    "\n",
    "import shap\n",
    "\n",
    "# Use a small subset for SHAP to speed up computation\n",
    "background = xray_data[:10]\n",
    "test_imgs = xray_data[10:13]\n",
    "\n",
    "# Create DeepExplainer\n",
    "explainer = shap.DeepExplainer(model, background)\n",
    "shap_values = explainer.shap_values(test_imgs)\n",
    "\n",
    "# Visualize SHAP values for each class\n",
    "for i, img in enumerate(test_imgs):\n",
    "    plt.figure(figsize=(8,4))\n",
    "    for c in range(len(shap_values)):\n",
    "        plt.subplot(1, len(shap_values), c+1)\n",
    "        shap_img = shap_values[c][i][...,0]\n",
    "        plt.imshow(img[...,0], cmap='gray')\n",
    "        plt.imshow(shap_img, cmap='jet', alpha=0.5)\n",
    "        plt.title(f\"Class {c} SHAP\")\n",
    "        plt.axis('off')\n",
    "    plt.show()\n",
    "    "
   ]
  },
  {
   "cell_type": "code",
   "execution_count": null,
   "id": "9c291333",
   "metadata": {
    "vscode": {
     "languageId": "plaintext"
    }
   },
   "outputs": [],
   "source": []
  }
 ],
 "metadata": {
  "language_info": {
   "name": "python"
  }
 },
 "nbformat": 4,
 "nbformat_minor": 5
}
